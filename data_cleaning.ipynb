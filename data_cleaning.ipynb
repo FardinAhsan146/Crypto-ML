{
 "cells": [
  {
   "cell_type": "code",
   "execution_count": 1,
   "id": "a1536f03",
   "metadata": {},
   "outputs": [],
   "source": [
    "import numpy as np\n",
    "import pandas as pd"
   ]
  },
  {
   "cell_type": "markdown",
   "id": "978e889d",
   "metadata": {},
   "source": [
    "# Data Cleaning Crypto Crimes on Elliptic Dataset"
   ]
  },
  {
   "cell_type": "markdown",
   "id": "2e52a3c2",
   "metadata": {},
   "source": [
    "## Read data "
   ]
  },
  {
   "cell_type": "code",
   "execution_count": 2,
   "id": "248a66ca",
   "metadata": {},
   "outputs": [],
   "source": [
    "# Read the three dataframes\n",
    "df_classes = pd.read_csv(\"data/elliptic_txs_classes.csv\")\n",
    "df_edges = pd.read_csv(\"data/elliptic_txs_edgelist.csv\")\n",
    "df_features = pd.read_csv(\"data/elliptic_txs_features.csv\", header = None)"
   ]
  },
  {
   "cell_type": "code",
   "execution_count": 3,
   "id": "83b8ecf9",
   "metadata": {},
   "outputs": [
    {
     "name": "stdout",
     "output_type": "stream",
     "text": [
      "<class 'pandas.core.frame.DataFrame'>\n",
      "RangeIndex: 203769 entries, 0 to 203768\n",
      "Data columns (total 2 columns):\n",
      " #   Column  Non-Null Count   Dtype \n",
      "---  ------  --------------   ----- \n",
      " 0   txId    203769 non-null  int64 \n",
      " 1   class   203769 non-null  object\n",
      "dtypes: int64(1), object(1)\n",
      "memory usage: 3.1+ MB\n"
     ]
    }
   ],
   "source": [
    "# Classes dataframe\n",
    "df_classes.info()"
   ]
  },
  {
   "cell_type": "code",
   "execution_count": 5,
   "id": "d0f158ac",
   "metadata": {},
   "outputs": [
    {
     "name": "stdout",
     "output_type": "stream",
     "text": [
      "<class 'pandas.core.frame.DataFrame'>\n",
      "RangeIndex: 234355 entries, 0 to 234354\n",
      "Data columns (total 2 columns):\n",
      " #   Column  Non-Null Count   Dtype\n",
      "---  ------  --------------   -----\n",
      " 0   txId1   234355 non-null  int64\n",
      " 1   txId2   234355 non-null  int64\n",
      "dtypes: int64(2)\n",
      "memory usage: 3.6 MB\n"
     ]
    }
   ],
   "source": [
    "# Edges from starting transaction to destination transaction\n",
    "df_edges.info()"
   ]
  },
  {
   "cell_type": "code",
   "execution_count": 6,
   "id": "8f6c2b7f",
   "metadata": {},
   "outputs": [
    {
     "name": "stdout",
     "output_type": "stream",
     "text": [
      "<class 'pandas.core.frame.DataFrame'>\n",
      "RangeIndex: 203769 entries, 0 to 203768\n",
      "Columns: 167 entries, 0 to 166\n",
      "dtypes: float64(165), int64(2)\n",
      "memory usage: 259.6 MB\n"
     ]
    }
   ],
   "source": [
    "# Features dataframe\n",
    "df_features.info()"
   ]
  },
  {
   "cell_type": "markdown",
   "id": "9e8a0246",
   "metadata": {},
   "source": [
    "## Format Data"
   ]
  },
  {
   "cell_type": "markdown",
   "id": "5b6e5a94",
   "metadata": {},
   "source": [
    "Our objective isn't to format the data or feature engineer it now. Right now we are cleaning the data to make EDA easier. \n",
    "\n",
    "The heavier formatting and cleaning can be applied later. "
   ]
  },
  {
   "cell_type": "markdown",
   "id": "9f247b9f",
   "metadata": {},
   "source": [
    "### Rename Columns, in fetaure dataframe"
   ]
  },
  {
   "cell_type": "code",
   "execution_count": 43,
   "id": "1009cc0e",
   "metadata": {},
   "outputs": [],
   "source": [
    "# Renaming columns\n",
    "colNames1 = {'0': 'txId', '1': \"time_step\"}\n",
    "colNames2 = {f'{i + 2}': f\"local_feature_{i + 1}\" for i in range(93)}\n",
    "colNames3 = {f'{i+95}': f\"aggregate_feature_{i+1}\" for i in range(72)}\n",
    "colNames = dict(**colNames1, **colNames2, **colNames3)\n",
    "colNames = {int(key): value for key,value in colNames.items()}"
   ]
  },
  {
   "cell_type": "code",
   "execution_count": 44,
   "id": "870f50e4",
   "metadata": {},
   "outputs": [
    {
     "data": {
      "text/html": [
       "<div>\n",
       "<style scoped>\n",
       "    .dataframe tbody tr th:only-of-type {\n",
       "        vertical-align: middle;\n",
       "    }\n",
       "\n",
       "    .dataframe tbody tr th {\n",
       "        vertical-align: top;\n",
       "    }\n",
       "\n",
       "    .dataframe thead th {\n",
       "        text-align: right;\n",
       "    }\n",
       "</style>\n",
       "<table border=\"1\" class=\"dataframe\">\n",
       "  <thead>\n",
       "    <tr style=\"text-align: right;\">\n",
       "      <th></th>\n",
       "      <th>txId</th>\n",
       "      <th>Time step</th>\n",
       "      <th>local_feature_1</th>\n",
       "      <th>local_feature_2</th>\n",
       "      <th>local_feature_3</th>\n",
       "      <th>local_feature_4</th>\n",
       "      <th>local_feature_5</th>\n",
       "      <th>local_feature_6</th>\n",
       "      <th>local_feature_7</th>\n",
       "      <th>local_feature_8</th>\n",
       "      <th>...</th>\n",
       "      <th>aggregate_feature_63</th>\n",
       "      <th>aggregate_feature_64</th>\n",
       "      <th>aggregate_feature_65</th>\n",
       "      <th>aggregate_feature_66</th>\n",
       "      <th>aggregate_feature_67</th>\n",
       "      <th>aggregate_feature_68</th>\n",
       "      <th>aggregate_feature_69</th>\n",
       "      <th>aggregate_feature_70</th>\n",
       "      <th>aggregate_feature_71</th>\n",
       "      <th>aggregate_feature_72</th>\n",
       "    </tr>\n",
       "  </thead>\n",
       "  <tbody>\n",
       "    <tr>\n",
       "      <th>0</th>\n",
       "      <td>230425980</td>\n",
       "      <td>1</td>\n",
       "      <td>-0.171469</td>\n",
       "      <td>-0.184668</td>\n",
       "      <td>-1.201369</td>\n",
       "      <td>-0.121970</td>\n",
       "      <td>-0.043875</td>\n",
       "      <td>-0.113002</td>\n",
       "      <td>-0.061584</td>\n",
       "      <td>-0.162097</td>\n",
       "      <td>...</td>\n",
       "      <td>-0.562153</td>\n",
       "      <td>-0.600999</td>\n",
       "      <td>1.461330</td>\n",
       "      <td>1.461369</td>\n",
       "      <td>0.018279</td>\n",
       "      <td>-0.087490</td>\n",
       "      <td>-0.131155</td>\n",
       "      <td>-0.097524</td>\n",
       "      <td>-0.120613</td>\n",
       "      <td>-0.119792</td>\n",
       "    </tr>\n",
       "    <tr>\n",
       "      <th>1</th>\n",
       "      <td>5530458</td>\n",
       "      <td>1</td>\n",
       "      <td>-0.171484</td>\n",
       "      <td>-0.184668</td>\n",
       "      <td>-1.201369</td>\n",
       "      <td>-0.121970</td>\n",
       "      <td>-0.043875</td>\n",
       "      <td>-0.113002</td>\n",
       "      <td>-0.061584</td>\n",
       "      <td>-0.162112</td>\n",
       "      <td>...</td>\n",
       "      <td>0.947382</td>\n",
       "      <td>0.673103</td>\n",
       "      <td>-0.979074</td>\n",
       "      <td>-0.978556</td>\n",
       "      <td>0.018279</td>\n",
       "      <td>-0.087490</td>\n",
       "      <td>-0.131155</td>\n",
       "      <td>-0.097524</td>\n",
       "      <td>-0.120613</td>\n",
       "      <td>-0.119792</td>\n",
       "    </tr>\n",
       "    <tr>\n",
       "      <th>2</th>\n",
       "      <td>232022460</td>\n",
       "      <td>1</td>\n",
       "      <td>-0.172107</td>\n",
       "      <td>-0.184668</td>\n",
       "      <td>-1.201369</td>\n",
       "      <td>-0.121970</td>\n",
       "      <td>-0.043875</td>\n",
       "      <td>-0.113002</td>\n",
       "      <td>-0.061584</td>\n",
       "      <td>-0.162749</td>\n",
       "      <td>...</td>\n",
       "      <td>0.670883</td>\n",
       "      <td>0.439728</td>\n",
       "      <td>-0.979074</td>\n",
       "      <td>-0.978556</td>\n",
       "      <td>-0.098889</td>\n",
       "      <td>-0.106715</td>\n",
       "      <td>-0.131155</td>\n",
       "      <td>-0.183671</td>\n",
       "      <td>-0.120613</td>\n",
       "      <td>-0.119792</td>\n",
       "    </tr>\n",
       "    <tr>\n",
       "      <th>3</th>\n",
       "      <td>232438397</td>\n",
       "      <td>1</td>\n",
       "      <td>0.163054</td>\n",
       "      <td>1.963790</td>\n",
       "      <td>-0.646376</td>\n",
       "      <td>12.409294</td>\n",
       "      <td>-0.063725</td>\n",
       "      <td>9.782742</td>\n",
       "      <td>12.414558</td>\n",
       "      <td>-0.163645</td>\n",
       "      <td>...</td>\n",
       "      <td>-0.577099</td>\n",
       "      <td>-0.613614</td>\n",
       "      <td>0.241128</td>\n",
       "      <td>0.241406</td>\n",
       "      <td>1.072793</td>\n",
       "      <td>0.085530</td>\n",
       "      <td>-0.131155</td>\n",
       "      <td>0.677799</td>\n",
       "      <td>-0.120613</td>\n",
       "      <td>-0.119792</td>\n",
       "    </tr>\n",
       "    <tr>\n",
       "      <th>4</th>\n",
       "      <td>230460314</td>\n",
       "      <td>1</td>\n",
       "      <td>1.011523</td>\n",
       "      <td>-0.081127</td>\n",
       "      <td>-1.201369</td>\n",
       "      <td>1.153668</td>\n",
       "      <td>0.333276</td>\n",
       "      <td>1.312656</td>\n",
       "      <td>-0.061584</td>\n",
       "      <td>-0.163523</td>\n",
       "      <td>...</td>\n",
       "      <td>-0.511871</td>\n",
       "      <td>-0.400422</td>\n",
       "      <td>0.517257</td>\n",
       "      <td>0.579382</td>\n",
       "      <td>0.018279</td>\n",
       "      <td>0.277775</td>\n",
       "      <td>0.326394</td>\n",
       "      <td>1.293750</td>\n",
       "      <td>0.178136</td>\n",
       "      <td>0.179117</td>\n",
       "    </tr>\n",
       "  </tbody>\n",
       "</table>\n",
       "<p>5 rows × 167 columns</p>\n",
       "</div>"
      ],
      "text/plain": [
       "        txId  Time step  local_feature_1  local_feature_2  local_feature_3  \\\n",
       "0  230425980          1        -0.171469        -0.184668        -1.201369   \n",
       "1    5530458          1        -0.171484        -0.184668        -1.201369   \n",
       "2  232022460          1        -0.172107        -0.184668        -1.201369   \n",
       "3  232438397          1         0.163054         1.963790        -0.646376   \n",
       "4  230460314          1         1.011523        -0.081127        -1.201369   \n",
       "\n",
       "   local_feature_4  local_feature_5  local_feature_6  local_feature_7  \\\n",
       "0        -0.121970        -0.043875        -0.113002        -0.061584   \n",
       "1        -0.121970        -0.043875        -0.113002        -0.061584   \n",
       "2        -0.121970        -0.043875        -0.113002        -0.061584   \n",
       "3        12.409294        -0.063725         9.782742        12.414558   \n",
       "4         1.153668         0.333276         1.312656        -0.061584   \n",
       "\n",
       "   local_feature_8  ...  aggregate_feature_63  aggregate_feature_64  \\\n",
       "0        -0.162097  ...             -0.562153             -0.600999   \n",
       "1        -0.162112  ...              0.947382              0.673103   \n",
       "2        -0.162749  ...              0.670883              0.439728   \n",
       "3        -0.163645  ...             -0.577099             -0.613614   \n",
       "4        -0.163523  ...             -0.511871             -0.400422   \n",
       "\n",
       "   aggregate_feature_65  aggregate_feature_66  aggregate_feature_67  \\\n",
       "0              1.461330              1.461369              0.018279   \n",
       "1             -0.979074             -0.978556              0.018279   \n",
       "2             -0.979074             -0.978556             -0.098889   \n",
       "3              0.241128              0.241406              1.072793   \n",
       "4              0.517257              0.579382              0.018279   \n",
       "\n",
       "   aggregate_feature_68  aggregate_feature_69  aggregate_feature_70  \\\n",
       "0             -0.087490             -0.131155             -0.097524   \n",
       "1             -0.087490             -0.131155             -0.097524   \n",
       "2             -0.106715             -0.131155             -0.183671   \n",
       "3              0.085530             -0.131155              0.677799   \n",
       "4              0.277775              0.326394              1.293750   \n",
       "\n",
       "   aggregate_feature_71  aggregate_feature_72  \n",
       "0             -0.120613             -0.119792  \n",
       "1             -0.120613             -0.119792  \n",
       "2             -0.120613             -0.119792  \n",
       "3             -0.120613             -0.119792  \n",
       "4              0.178136              0.179117  \n",
       "\n",
       "[5 rows x 167 columns]"
      ]
     },
     "execution_count": 44,
     "metadata": {},
     "output_type": "execute_result"
    }
   ],
   "source": [
    "df_features = df_features.rename(columns=colNames)\n",
    "df_features.head()"
   ]
  },
  {
   "cell_type": "markdown",
   "id": "80f63a72",
   "metadata": {},
   "source": [
    "### Rename the classes column"
   ]
  },
  {
   "cell_type": "code",
   "execution_count": 59,
   "id": "a72b7310",
   "metadata": {},
   "outputs": [],
   "source": [
    "# This is for EDA only, will change later.\n",
    "df_classes['class'] = df_classes['class'].map({'2':'licit', '1':'illicit', 'unknown': 'unknown'})"
   ]
  },
  {
   "cell_type": "markdown",
   "id": "ce0efaea",
   "metadata": {},
   "source": [
    "### Save new csvs"
   ]
  },
  {
   "cell_type": "code",
   "execution_count": 61,
   "id": "589a2d52",
   "metadata": {},
   "outputs": [],
   "source": [
    "df_classes.to_csv(\"data/elliptic_txs_classes.csv\", index = False)\n",
    "df_features.to_csv(\"data/elliptic_txs_features.csv\", index = False)"
   ]
  },
  {
   "cell_type": "code",
   "execution_count": null,
   "id": "f446c55b",
   "metadata": {},
   "outputs": [],
   "source": []
  }
 ],
 "metadata": {
  "kernelspec": {
   "display_name": "Python 3 (ipykernel)",
   "language": "python",
   "name": "python3"
  },
  "language_info": {
   "codemirror_mode": {
    "name": "ipython",
    "version": 3
   },
   "file_extension": ".py",
   "mimetype": "text/x-python",
   "name": "python",
   "nbconvert_exporter": "python",
   "pygments_lexer": "ipython3",
   "version": "3.8.12"
  }
 },
 "nbformat": 4,
 "nbformat_minor": 5
}
